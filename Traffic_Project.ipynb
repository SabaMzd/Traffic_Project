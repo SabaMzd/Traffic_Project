{
 "cells": [
  {
   "cell_type": "code",
   "execution_count": 1,
   "id": "e4ec3f3d-eabb-4e3c-a03e-8fdcaebfe5dd",
   "metadata": {},
   "outputs": [],
   "source": [
    "import numpy as np\n",
    "import random\n",
    "import traci  # SUMO Traffic Control Interface\n",
    "import matplotlib.pyplot as plt"
   ]
  },
  {
   "cell_type": "code",
   "execution_count": 3,
   "id": "c79bf701-5a05-41eb-b868-6bc8eba0712a",
   "metadata": {},
   "outputs": [],
   "source": [
    "# Hyperparameters\n",
    "alpha = 0.1   # Learning rate\n",
    "gamma = 0.9   # Discount factor\n",
    "epsilon = 0.1  # Epsilon-greedy strategy for exploration"
   ]
  },
  {
   "cell_type": "code",
   "execution_count": 7,
   "id": "5a80c788-7fa0-4712-918e-6ec1fefa5f20",
   "metadata": {},
   "outputs": [],
   "source": [
    "# Number of intersections and actions (phases)\n",
    "NUM_INTERSECTIONS = 6  # Modify as per the number of intersections in my project\n",
    "NUM_ACTIONS = 3  # For example, 3 possible timings: 30s, 60s, 90s of green time"
   ]
  },
  {
   "cell_type": "code",
   "execution_count": 9,
   "id": "b26d0501-baa5-48c8-82bb-905922f868f1",
   "metadata": {},
   "outputs": [],
   "source": [
    "# Q-table initialized with zeros\n",
    "Q_table = np.zeros((NUM_INTERSECTIONS, NUM_ACTIONS))"
   ]
  },
  {
   "cell_type": "code",
   "execution_count": 11,
   "id": "e1111415-3f6d-4612-8085-2eb7bcf86edd",
   "metadata": {},
   "outputs": [],
   "source": [
    "# Track total rewards per episode for plotting\n",
    "total_rewards = []"
   ]
  },
  {
   "cell_type": "code",
   "execution_count": 13,
   "id": "ba5fad2b-5b26-4149-bcef-7a1c29c07974",
   "metadata": {},
   "outputs": [],
   "source": [
    "# Function to select an action using epsilon-greedy policy\n",
    "def choose_action(state):\n",
    "    if random.uniform(0, 1) < epsilon:\n",
    "        return random.randint(0, NUM_ACTIONS - 1)  # Explore: random action\n",
    "    else:\n",
    "        return np.argmax(Q_table[state])  # Exploit: best known action"
   ]
  },
  {
   "cell_type": "code",
   "execution_count": 15,
   "id": "be5d31fd-59ff-4330-a04d-b466b3e346f2",
   "metadata": {},
   "outputs": [],
   "source": [
    "# Function to calculate the reward based on traffic conditions\n",
    "def get_reward(intersection_id):\n",
    "    # Use the SUMO API to get the current traffic state (e.g., queue length or delay)\n",
    "    queue_length = traci.edge.getLastStepVehicleNumber(f'intersection_{intersection_id}')\n",
    "    return -queue_length  # Negative because we want to minimize the queue"
   ]
  },
  {
   "cell_type": "code",
   "execution_count": 17,
   "id": "94963d3e-a7cc-4952-a319-d243f11500a2",
   "metadata": {},
   "outputs": [],
   "source": [
    "# Function to update the Q-table based on the Q-learning formula\n",
    "def update_q_table(state, action, reward, next_state):\n",
    "    best_next_action = np.argmax(Q_table[next_state])\n",
    "    Q_table[state, action] = Q_table[state, action] + alpha * (reward + gamma * Q_table[next_state, best_next_action] - Q_table[state, action])"
   ]
  },
  {
   "cell_type": "code",
   "execution_count": 19,
   "id": "7c26e138-050f-46f9-9c6d-f0f98b2ce2a6",
   "metadata": {},
   "outputs": [],
   "source": [
    "# Main Q-learning loop\n",
    "def q_learning(num_episodes):\n",
    "    for episode in range(num_episodes):\n",
    "        episode_reward = 0  # Track reward for the current episode\n",
    "\n",
    "        # Loop over each intersection for every episode\n",
    "        for intersection_id in range(NUM_INTERSECTIONS):\n",
    "            # Get the initial state (current traffic condition)\n",
    "            state = intersection_id  # Can be traffic conditions like queue length or congestion level\n",
    "            \n",
    "            # Choose an action (traffic signal phase setting)\n",
    "            action = choose_action(state)\n",
    "            \n",
    "            # Apply the action in SUMO (set the traffic light phase)\n",
    "            traci.trafficlight.setPhase(f'tl_{intersection_id}', action)\n",
    "            \n",
    "            # Simulate one step in SUMO to observe the effects of the action\n",
    "            traci.simulationStep()  # Proceed by one simulation step\n",
    "            \n",
    "            # Get the reward (negative queue length to minimize traffic)\n",
    "            reward = get_reward(intersection_id)\n",
    "            episode_reward += reward  # Accumulate reward for the episode\n",
    "            \n",
    "            # Update the Q-table based on the observed reward and next state\n",
    "            next_state = intersection_id  # The next state would be the updated traffic condition\n",
    "            update_q_table(state, action, reward, next_state)\n",
    "        \n",
    "        # Store the total reward for this episode\n",
    "        total_rewards.append(episode_reward)\n",
    "        \n",
    "        # Optionally, print progress\n",
    "        if episode % 100 == 0:\n",
    "            print(f'Episode {episode}, Total Reward: {episode_reward}')\n",
    "\n",
    "    print('Training complete!')\n"
   ]
  },
  {
   "cell_type": "code",
   "execution_count": 21,
   "id": "1795cade-882a-4cd5-aa19-75a8671cb637",
   "metadata": {},
   "outputs": [],
   "source": [
    "# Plotting function to show total rewards per episode\n",
    "def plot_rewards():\n",
    "    plt.plot(total_rewards)\n",
    "    plt.xlabel('Episode')\n",
    "    plt.ylabel('Total Reward (Negative Queue Length)')\n",
    "    plt.title('Q-learning: Total Reward per Episode')\n",
    "    plt.show()"
   ]
  },
  {
   "cell_type": "code",
   "execution_count": null,
   "id": "69bd999f-5298-4de7-b007-70d6e15d49d9",
   "metadata": {},
   "outputs": [],
   "source": []
  }
 ],
 "metadata": {
  "kernelspec": {
   "display_name": "Python 3 (ipykernel)",
   "language": "python",
   "name": "python3"
  },
  "language_info": {
   "codemirror_mode": {
    "name": "ipython",
    "version": 3
   },
   "file_extension": ".py",
   "mimetype": "text/x-python",
   "name": "python",
   "nbconvert_exporter": "python",
   "pygments_lexer": "ipython3",
   "version": "3.12.4"
  }
 },
 "nbformat": 4,
 "nbformat_minor": 5
}
